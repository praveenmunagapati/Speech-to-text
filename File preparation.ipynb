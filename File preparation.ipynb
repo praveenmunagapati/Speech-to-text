{
 "cells": [
  {
   "cell_type": "markdown",
   "metadata": {
    "colab_type": "text",
    "id": "1u_gpFu7-cXu"
   },
   "source": [
    "# The file structure available on the Librispeech websie is-\n",
    "Main foler -> Sub folder -> Sub sub folder -> Audio files and transcript\n",
    "\n",
    "We can move all the files to a big folder and hence create a corpus of the audio file. \n",
    "(The model was skipping a lot fo files, when it was aksed to hover through all the sub sub folders.)\n",
    "\n",
    "Cmd for moving all files from all subfolders to the main folder(wokrs fine on windows)\n",
    "\n",
    "' for /r %d in (*) do copy \"%d\" \"Path to the folder\"  '"
   ]
  },
  {
   "cell_type": "markdown",
   "metadata": {
    "colab_type": "text",
    "id": "silyOthUA3rB"
   },
   "source": [
    "#Move files to Cloud\n",
    "To train a model in cloud, we have to move the entire audio files to the cloud (2+ Gb usually) and uplaoding the files to cloud could be problematic. \n",
    "\n",
    "Hence, the solution is to upload the zip audio file to the Google drive and then load the files to the cloud using Gdown package. \n",
    "\n",
    "\n",
    "[Gdown](https://pypi.org/project/gdown/) - package Google Drive direct download of big files."
   ]
  },
  {
   "cell_type": "code",
   "execution_count": 0,
   "metadata": {
    "colab": {},
    "colab_type": "code",
    "id": "ZbPgGwS_Ax3o",
    "outputId": "8ea1895c-9d3d-431b-a6d3-c2548f505e3a"
   },
   "outputs": [
    {
     "name": "stdout",
     "output_type": "stream",
     "text": [
      "Collecting gdown\n",
      "  Downloading https://files.pythonhosted.org/packages/57/fc/2ad01a54732b0d3d3636221f3e30795e409d958f0ad1f32e8e8563f845ce/gdown-3.10.1.tar.gz\n",
      "Requirement already satisfied: filelock in /opt/anaconda3/lib/python3.7/site-packages (from gdown) (3.0.12)\n",
      "Requirement already satisfied: requests[socks] in /opt/anaconda3/lib/python3.7/site-packages (from gdown) (2.22.0)\n",
      "Requirement already satisfied: six in /opt/anaconda3/lib/python3.7/site-packages (from gdown) (1.12.0)\n",
      "Requirement already satisfied: tqdm in /opt/anaconda3/lib/python3.7/site-packages (from gdown) (4.40.2)\n",
      "Requirement already satisfied: idna<2.9,>=2.5 in /opt/anaconda3/lib/python3.7/site-packages (from requests[socks]->gdown) (2.8)\n",
      "Requirement already satisfied: certifi>=2017.4.17 in /opt/anaconda3/lib/python3.7/site-packages (from requests[socks]->gdown) (2019.11.28)\n",
      "Requirement already satisfied: chardet<3.1.0,>=3.0.2 in /opt/anaconda3/lib/python3.7/site-packages (from requests[socks]->gdown) (3.0.4)\n",
      "Requirement already satisfied: urllib3!=1.25.0,!=1.25.1,<1.26,>=1.21.1 in /opt/anaconda3/lib/python3.7/site-packages (from requests[socks]->gdown) (1.24.2)\n",
      "Requirement already satisfied: PySocks!=1.5.7,>=1.5.6; extra == \"socks\" in /opt/anaconda3/lib/python3.7/site-packages (from requests[socks]->gdown) (1.7.1)\n",
      "Building wheels for collected packages: gdown\n",
      "  Building wheel for gdown (setup.py) ... \u001b[?25ldone\n",
      "\u001b[?25h  Created wheel for gdown: filename=gdown-3.10.1-cp37-none-any.whl size=8973 sha256=6d4fbe4c577266c8edba6d35507b6294be2b55b94e3493de9c8f8012a386a663\n",
      "  Stored in directory: /home/jupyter/.cache/pip/wheels/6c/eb/7c/a2e1b8793fb0e9496d17d260c61deea246d45546797f74bf65\n",
      "Successfully built gdown\n",
      "Installing collected packages: gdown\n",
      "Successfully installed gdown-3.10.1\n",
      "Note: you may need to restart the kernel to use updated packages.\n"
     ]
    }
   ],
   "source": [
    "pip install gdown"
   ]
  },
  {
   "cell_type": "markdown",
   "metadata": {
    "colab_type": "text",
    "id": "tAIVvSZEA2Zi"
   },
   "source": []
  },
  {
   "cell_type": "code",
   "execution_count": 0,
   "metadata": {
    "colab": {},
    "colab_type": "code",
    "id": "iErMlYNLAx3-"
   },
   "outputs": [],
   "source": [
    "import gdown"
   ]
  },
  {
   "cell_type": "markdown",
   "metadata": {
    "colab_type": "text",
    "id": "i_7vOUoqDQRY"
   },
   "source": [
    "Once you have the file on the cloud, get its public URL by link sharing and impute it below."
   ]
  },
  {
   "cell_type": "code",
   "execution_count": 0,
   "metadata": {
    "colab": {},
    "colab_type": "code",
    "id": "Yu3P55bKAx4M",
    "outputId": "40d8c39a-5fc4-4cf3-880b-76d6fcd8dda6"
   },
   "outputs": [
    {
     "name": "stderr",
     "output_type": "stream",
     "text": [
      "Downloading...\n",
      "From: https://drive.google.com/uc?id=1NQAX9q5Y8ag_p-aRVPa50l31jlYNa2eG\n",
      "To: /home/jupyter/CRP/audio.zip\n",
      "338MB [00:03, 103MB/s]  \n"
     ]
    },
    {
     "data": {
      "text/plain": [
       "'audio.zip'"
      ]
     },
     "execution_count": 3,
     "metadata": {
      "tags": []
     },
     "output_type": "execute_result"
    }
   ],
   "source": [
    "# downloading using Gdown\n",
    "url = 'https://drive.google.com/uc?id=' # file url here\n",
    "\n",
    "output = 'audio.zip'                  # output directory and name of the file here\n",
    "gdown.download(url, output, quiet=False)"
   ]
  },
  {
   "cell_type": "markdown",
   "metadata": {
    "colab_type": "text",
    "id": "13d3MgNbDs0I"
   },
   "source": [
    "Once the zip file is in the cloud, it can be simply unzipped using the below code.\n",
    "\n",
    "The zipfile package is used for the same."
   ]
  },
  {
   "cell_type": "code",
   "execution_count": 0,
   "metadata": {
    "colab": {},
    "colab_type": "code",
    "id": "tzFJ9BqiAx4Z"
   },
   "outputs": [],
   "source": [
    "#unzip the file\n",
    "import zipfile\n",
    "with zipfile.ZipFile('/home/jupyter/CRP/Data/audio.zip',  'r') as zip_ref:  #the input directory\n",
    "    zip_ref.extractall('/home/jupyter/CRP/Data/audio2')                     #output directory"
   ]
  }
 ],
 "metadata": {
  "colab": {
   "collapsed_sections": [],
   "name": "File preparation.ipynb",
   "provenance": []
  },
  "kernelspec": {
   "display_name": "Python 3",
   "language": "python",
   "name": "python3"
  },
  "language_info": {
   "codemirror_mode": {
    "name": "ipython",
    "version": 3
   },
   "file_extension": ".py",
   "mimetype": "text/x-python",
   "name": "python",
   "nbconvert_exporter": "python",
   "pygments_lexer": "ipython3",
   "version": "3.7.3"
  }
 },
 "nbformat": 4,
 "nbformat_minor": 1
}
